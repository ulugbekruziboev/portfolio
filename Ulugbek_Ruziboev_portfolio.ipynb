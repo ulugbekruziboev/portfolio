{
 "cells": [
  {
   "cell_type": "code",
   "execution_count": 1,
   "metadata": {},
   "outputs": [],
   "source": [
    "#First, we need to import all of the files to start working.\n",
    "\n",
    "import numpy as np\n",
    "import pandas as pd\n",
    "import matplotlib.pyplot as plt\n",
    "import seaborn as sns"
   ]
  },
  {
   "cell_type": "code",
   "execution_count": 2,
   "metadata": {},
   "outputs": [
    {
     "data": {
      "text/html": [
       "<div>\n",
       "<style scoped>\n",
       "    .dataframe tbody tr th:only-of-type {\n",
       "        vertical-align: middle;\n",
       "    }\n",
       "\n",
       "    .dataframe tbody tr th {\n",
       "        vertical-align: top;\n",
       "    }\n",
       "\n",
       "    .dataframe thead th {\n",
       "        text-align: right;\n",
       "    }\n",
       "</style>\n",
       "<table border=\"1\" class=\"dataframe\">\n",
       "  <thead>\n",
       "    <tr style=\"text-align: right;\">\n",
       "      <th></th>\n",
       "      <th>Date</th>\n",
       "      <th>Company</th>\n",
       "      <th>Position</th>\n",
       "      <th>Industry</th>\n",
       "      <th>Place</th>\n",
       "      <th>Rejection</th>\n",
       "      <th>Interview</th>\n",
       "      <th>Assignment</th>\n",
       "      <th>Offer</th>\n",
       "    </tr>\n",
       "  </thead>\n",
       "  <tbody>\n",
       "    <tr>\n",
       "      <th>0</th>\n",
       "      <td>2021-01-22</td>\n",
       "      <td>Doctolib</td>\n",
       "      <td>Data Scientist</td>\n",
       "      <td>Software</td>\n",
       "      <td>Berlin</td>\n",
       "      <td>Yes</td>\n",
       "      <td>No</td>\n",
       "      <td>No</td>\n",
       "      <td>No</td>\n",
       "    </tr>\n",
       "    <tr>\n",
       "      <th>1</th>\n",
       "      <td>2021-01-22</td>\n",
       "      <td>Solarisbank</td>\n",
       "      <td>Working Student Data Analyst</td>\n",
       "      <td>Bank</td>\n",
       "      <td>Berlin</td>\n",
       "      <td>Yes</td>\n",
       "      <td>No</td>\n",
       "      <td>No</td>\n",
       "      <td>No</td>\n",
       "    </tr>\n",
       "    <tr>\n",
       "      <th>2</th>\n",
       "      <td>2021-01-22</td>\n",
       "      <td>Wayfair</td>\n",
       "      <td>Data Analyst</td>\n",
       "      <td>Marketplace</td>\n",
       "      <td>Berlin</td>\n",
       "      <td>Yes</td>\n",
       "      <td>No</td>\n",
       "      <td>No</td>\n",
       "      <td>No</td>\n",
       "    </tr>\n",
       "    <tr>\n",
       "      <th>3</th>\n",
       "      <td>2021-01-22</td>\n",
       "      <td>Auto1</td>\n",
       "      <td>Data Analyst</td>\n",
       "      <td>Automotive</td>\n",
       "      <td>Berlin</td>\n",
       "      <td>Yes</td>\n",
       "      <td>No</td>\n",
       "      <td>No</td>\n",
       "      <td>No</td>\n",
       "    </tr>\n",
       "    <tr>\n",
       "      <th>4</th>\n",
       "      <td>2021-01-23</td>\n",
       "      <td>Delivery Hero</td>\n",
       "      <td>Data Scientist</td>\n",
       "      <td>Delivery</td>\n",
       "      <td>Berlin</td>\n",
       "      <td>Yes</td>\n",
       "      <td>No</td>\n",
       "      <td>No</td>\n",
       "      <td>No</td>\n",
       "    </tr>\n",
       "  </tbody>\n",
       "</table>\n",
       "</div>"
      ],
      "text/plain": [
       "        Date        Company                      Position     Industry  \\\n",
       "0 2021-01-22       Doctolib                Data Scientist     Software   \n",
       "1 2021-01-22    Solarisbank  Working Student Data Analyst         Bank   \n",
       "2 2021-01-22        Wayfair                  Data Analyst  Marketplace   \n",
       "3 2021-01-22          Auto1                  Data Analyst   Automotive   \n",
       "4 2021-01-23  Delivery Hero                Data Scientist     Delivery   \n",
       "\n",
       "    Place Rejection Interview Assignment Offer  \n",
       "0  Berlin       Yes        No         No    No  \n",
       "1  Berlin       Yes        No         No    No  \n",
       "2  Berlin       Yes        No         No    No  \n",
       "3  Berlin       Yes        No         No    No  \n",
       "4  Berlin       Yes        No         No    No  "
      ]
     },
     "execution_count": 2,
     "metadata": {},
     "output_type": "execute_result"
    }
   ],
   "source": [
    "#Here we are reading the prepared CSV file, and also setting the 'parse_dates' parameter \n",
    "#since we would like to have our dates column to be parsed.\n",
    "\n",
    "df = pd.read_csv(r\"C:\\Users\\Ulugbek Ruziboev\\Personal\\Documents\\Job search\\job_search_dataset.csv\", parse_dates=['Date'], dayfirst=True)\n",
    "df.head()"
   ]
  },
  {
   "cell_type": "code",
   "execution_count": 3,
   "metadata": {},
   "outputs": [
    {
     "data": {
      "text/plain": [
       "Date          datetime64[ns]\n",
       "Company               object\n",
       "Position              object\n",
       "Industry              object\n",
       "Place                 object\n",
       "Rejection             object\n",
       "Interview             object\n",
       "Assignment            object\n",
       "Offer                 object\n",
       "dtype: object"
      ]
     },
     "execution_count": 3,
     "metadata": {},
     "output_type": "execute_result"
    }
   ],
   "source": [
    "#Here we are checking out the types of data contained in each column.\n",
    "#If there were any numeric (both int or float) columns, we needed to make sure it is correcly reflected here.\n",
    "#Otherwise, we just need to convert the respective columns.\n",
    "\n",
    "df.dtypes"
   ]
  },
  {
   "cell_type": "code",
   "execution_count": 4,
   "metadata": {},
   "outputs": [
    {
     "data": {
      "text/plain": [
       "Date          False\n",
       "Company       False\n",
       "Position      False\n",
       "Industry      False\n",
       "Place         False\n",
       "Rejection     False\n",
       "Interview     False\n",
       "Assignment    False\n",
       "Offer         False\n",
       "dtype: bool"
      ]
     },
     "execution_count": 4,
     "metadata": {},
     "output_type": "execute_result"
    }
   ],
   "source": [
    "# Here we are checking whether any columns have missing values. Since the table has been generated by me very\n",
    "# accurately, it does not have any missing values, but it real worlds it happens pretty frequently.\n",
    "# If it happens, then it depends on the situation. If there are very little number of missing values,\n",
    "# we can simply drop those columns. Otherwise, we can use different techniques. The easiest one would be setting all\n",
    "# missing values to 0. That would work if there are not so many missing values, otherwise the dataset might get skewed.\n",
    "# For instance, for numeric values, we can calculate mean or median (depending on the properties on that column)\n",
    "# and put those calculated values instead of missing ones.\n",
    "\n",
    "df.isnull().all()"
   ]
  },
  {
   "cell_type": "code",
   "execution_count": 5,
   "metadata": {},
   "outputs": [
    {
     "data": {
      "text/html": [
       "<div>\n",
       "<style scoped>\n",
       "    .dataframe tbody tr th:only-of-type {\n",
       "        vertical-align: middle;\n",
       "    }\n",
       "\n",
       "    .dataframe tbody tr th {\n",
       "        vertical-align: top;\n",
       "    }\n",
       "\n",
       "    .dataframe thead th {\n",
       "        text-align: right;\n",
       "    }\n",
       "</style>\n",
       "<table border=\"1\" class=\"dataframe\">\n",
       "  <thead>\n",
       "    <tr style=\"text-align: right;\">\n",
       "      <th></th>\n",
       "      <th>Date</th>\n",
       "      <th>Company</th>\n",
       "      <th>Position</th>\n",
       "      <th>Industry</th>\n",
       "      <th>Place</th>\n",
       "      <th>Rejection</th>\n",
       "      <th>Interview</th>\n",
       "      <th>Assignment</th>\n",
       "      <th>Offer</th>\n",
       "      <th>DayOfWeek</th>\n",
       "      <th>MonthOfYear</th>\n",
       "    </tr>\n",
       "  </thead>\n",
       "  <tbody>\n",
       "    <tr>\n",
       "      <th>0</th>\n",
       "      <td>2021-01-22</td>\n",
       "      <td>Doctolib</td>\n",
       "      <td>Data Scientist</td>\n",
       "      <td>Software</td>\n",
       "      <td>Berlin</td>\n",
       "      <td>Yes</td>\n",
       "      <td>No</td>\n",
       "      <td>No</td>\n",
       "      <td>No</td>\n",
       "      <td>Friday</td>\n",
       "      <td>January</td>\n",
       "    </tr>\n",
       "    <tr>\n",
       "      <th>1</th>\n",
       "      <td>2021-01-22</td>\n",
       "      <td>Solarisbank</td>\n",
       "      <td>Working Student Data Analyst</td>\n",
       "      <td>Bank</td>\n",
       "      <td>Berlin</td>\n",
       "      <td>Yes</td>\n",
       "      <td>No</td>\n",
       "      <td>No</td>\n",
       "      <td>No</td>\n",
       "      <td>Friday</td>\n",
       "      <td>January</td>\n",
       "    </tr>\n",
       "    <tr>\n",
       "      <th>2</th>\n",
       "      <td>2021-01-22</td>\n",
       "      <td>Wayfair</td>\n",
       "      <td>Data Analyst</td>\n",
       "      <td>Marketplace</td>\n",
       "      <td>Berlin</td>\n",
       "      <td>Yes</td>\n",
       "      <td>No</td>\n",
       "      <td>No</td>\n",
       "      <td>No</td>\n",
       "      <td>Friday</td>\n",
       "      <td>January</td>\n",
       "    </tr>\n",
       "    <tr>\n",
       "      <th>3</th>\n",
       "      <td>2021-01-22</td>\n",
       "      <td>Auto1</td>\n",
       "      <td>Data Analyst</td>\n",
       "      <td>Automotive</td>\n",
       "      <td>Berlin</td>\n",
       "      <td>Yes</td>\n",
       "      <td>No</td>\n",
       "      <td>No</td>\n",
       "      <td>No</td>\n",
       "      <td>Friday</td>\n",
       "      <td>January</td>\n",
       "    </tr>\n",
       "    <tr>\n",
       "      <th>4</th>\n",
       "      <td>2021-01-23</td>\n",
       "      <td>Delivery Hero</td>\n",
       "      <td>Data Scientist</td>\n",
       "      <td>Delivery</td>\n",
       "      <td>Berlin</td>\n",
       "      <td>Yes</td>\n",
       "      <td>No</td>\n",
       "      <td>No</td>\n",
       "      <td>No</td>\n",
       "      <td>Saturday</td>\n",
       "      <td>January</td>\n",
       "    </tr>\n",
       "  </tbody>\n",
       "</table>\n",
       "</div>"
      ],
      "text/plain": [
       "        Date        Company                      Position     Industry  \\\n",
       "0 2021-01-22       Doctolib                Data Scientist     Software   \n",
       "1 2021-01-22    Solarisbank  Working Student Data Analyst         Bank   \n",
       "2 2021-01-22        Wayfair                  Data Analyst  Marketplace   \n",
       "3 2021-01-22          Auto1                  Data Analyst   Automotive   \n",
       "4 2021-01-23  Delivery Hero                Data Scientist     Delivery   \n",
       "\n",
       "    Place Rejection Interview Assignment Offer DayOfWeek MonthOfYear  \n",
       "0  Berlin       Yes        No         No    No    Friday     January  \n",
       "1  Berlin       Yes        No         No    No    Friday     January  \n",
       "2  Berlin       Yes        No         No    No    Friday     January  \n",
       "3  Berlin       Yes        No         No    No    Friday     January  \n",
       "4  Berlin       Yes        No         No    No  Saturday     January  "
      ]
     },
     "execution_count": 5,
     "metadata": {},
     "output_type": "execute_result"
    }
   ],
   "source": [
    "# Here we are adding a new column containing the day of the week for further useful analysis.\n",
    "\n",
    "df['DayOfWeek'] = df['Date'].dt.day_name()\n",
    "df['MonthOfYear'] = df['Date'].dt.month_name()\n",
    "df.head()"
   ]
  },
  {
   "cell_type": "code",
   "execution_count": 6,
   "metadata": {},
   "outputs": [
    {
     "data": {
      "text/html": [
       "<div>\n",
       "<style scoped>\n",
       "    .dataframe tbody tr th:only-of-type {\n",
       "        vertical-align: middle;\n",
       "    }\n",
       "\n",
       "    .dataframe tbody tr th {\n",
       "        vertical-align: top;\n",
       "    }\n",
       "\n",
       "    .dataframe thead th {\n",
       "        text-align: right;\n",
       "    }\n",
       "</style>\n",
       "<table border=\"1\" class=\"dataframe\">\n",
       "  <thead>\n",
       "    <tr style=\"text-align: right;\">\n",
       "      <th></th>\n",
       "      <th>Date</th>\n",
       "      <th>Company</th>\n",
       "    </tr>\n",
       "  </thead>\n",
       "  <tbody>\n",
       "    <tr>\n",
       "      <th>0</th>\n",
       "      <td>2021-01-22</td>\n",
       "      <td>4</td>\n",
       "    </tr>\n",
       "    <tr>\n",
       "      <th>1</th>\n",
       "      <td>2021-01-23</td>\n",
       "      <td>2</td>\n",
       "    </tr>\n",
       "    <tr>\n",
       "      <th>2</th>\n",
       "      <td>2021-01-26</td>\n",
       "      <td>2</td>\n",
       "    </tr>\n",
       "    <tr>\n",
       "      <th>3</th>\n",
       "      <td>2021-01-28</td>\n",
       "      <td>14</td>\n",
       "    </tr>\n",
       "    <tr>\n",
       "      <th>4</th>\n",
       "      <td>2021-01-29</td>\n",
       "      <td>4</td>\n",
       "    </tr>\n",
       "  </tbody>\n",
       "</table>\n",
       "</div>"
      ],
      "text/plain": [
       "        Date  Company\n",
       "0 2021-01-22        4\n",
       "1 2021-01-23        2\n",
       "2 2021-01-26        2\n",
       "3 2021-01-28       14\n",
       "4 2021-01-29        4"
      ]
     },
     "execution_count": 6,
     "metadata": {},
     "output_type": "execute_result"
    }
   ],
   "source": [
    "# Here we are creating a new dataframe containing the information on the distribution of dates to see\n",
    "# how many times I applied each day.\n",
    "\n",
    "date_dist_df = df.groupby('Date')['Company'].count().to_frame()\n",
    "date_dist_df.reset_index(inplace=True)\n",
    "date_dist_df.head()"
   ]
  },
  {
   "cell_type": "code",
   "execution_count": 7,
   "metadata": {},
   "outputs": [
    {
     "data": {
      "text/html": [
       "<div>\n",
       "<style scoped>\n",
       "    .dataframe tbody tr th:only-of-type {\n",
       "        vertical-align: middle;\n",
       "    }\n",
       "\n",
       "    .dataframe tbody tr th {\n",
       "        vertical-align: top;\n",
       "    }\n",
       "\n",
       "    .dataframe thead th {\n",
       "        text-align: right;\n",
       "    }\n",
       "</style>\n",
       "<table border=\"1\" class=\"dataframe\">\n",
       "  <thead>\n",
       "    <tr style=\"text-align: right;\">\n",
       "      <th></th>\n",
       "      <th>DayOfWeek</th>\n",
       "      <th>Company</th>\n",
       "    </tr>\n",
       "  </thead>\n",
       "  <tbody>\n",
       "    <tr>\n",
       "      <th>0</th>\n",
       "      <td>Monday</td>\n",
       "      <td>38</td>\n",
       "    </tr>\n",
       "    <tr>\n",
       "      <th>1</th>\n",
       "      <td>Tuesday</td>\n",
       "      <td>22</td>\n",
       "    </tr>\n",
       "    <tr>\n",
       "      <th>2</th>\n",
       "      <td>Wednesday</td>\n",
       "      <td>34</td>\n",
       "    </tr>\n",
       "    <tr>\n",
       "      <th>3</th>\n",
       "      <td>Thursday</td>\n",
       "      <td>58</td>\n",
       "    </tr>\n",
       "    <tr>\n",
       "      <th>4</th>\n",
       "      <td>Friday</td>\n",
       "      <td>40</td>\n",
       "    </tr>\n",
       "    <tr>\n",
       "      <th>5</th>\n",
       "      <td>Saturday</td>\n",
       "      <td>31</td>\n",
       "    </tr>\n",
       "    <tr>\n",
       "      <th>6</th>\n",
       "      <td>Sunday</td>\n",
       "      <td>4</td>\n",
       "    </tr>\n",
       "  </tbody>\n",
       "</table>\n",
       "</div>"
      ],
      "text/plain": [
       "   DayOfWeek  Company\n",
       "0     Monday       38\n",
       "1    Tuesday       22\n",
       "2  Wednesday       34\n",
       "3   Thursday       58\n",
       "4     Friday       40\n",
       "5   Saturday       31\n",
       "6     Sunday        4"
      ]
     },
     "execution_count": 7,
     "metadata": {},
     "output_type": "execute_result"
    }
   ],
   "source": [
    "# Here we are creating a new dataframe containing the information on the distribution of days of the week to see\n",
    "# how many times I applied each day of the week.\n",
    "# I am also doing reindexing of the dataframe since it would be sorted based on alphabetical or numeric order,\n",
    "# but not the days of the week as they are meant to be.\n",
    "\n",
    "day_dist_df = df.groupby('DayOfWeek')['Company'].count().reindex(['Monday', 'Tuesday', \n",
    "                                                                  'Wednesday', 'Thursday', 'Friday',\n",
    "                                                                 'Saturday', 'Sunday']).to_frame()\n",
    "day_dist_df.reset_index(inplace=True)\n",
    "day_dist_df"
   ]
  },
  {
   "cell_type": "code",
   "execution_count": 8,
   "metadata": {},
   "outputs": [
    {
     "data": {
      "text/html": [
       "<div>\n",
       "<style scoped>\n",
       "    .dataframe tbody tr th:only-of-type {\n",
       "        vertical-align: middle;\n",
       "    }\n",
       "\n",
       "    .dataframe tbody tr th {\n",
       "        vertical-align: top;\n",
       "    }\n",
       "\n",
       "    .dataframe thead th {\n",
       "        text-align: right;\n",
       "    }\n",
       "</style>\n",
       "<table border=\"1\" class=\"dataframe\">\n",
       "  <thead>\n",
       "    <tr style=\"text-align: right;\">\n",
       "      <th></th>\n",
       "      <th>MonthOfYear</th>\n",
       "      <th>Company</th>\n",
       "    </tr>\n",
       "  </thead>\n",
       "  <tbody>\n",
       "    <tr>\n",
       "      <th>0</th>\n",
       "      <td>January</td>\n",
       "      <td>28</td>\n",
       "    </tr>\n",
       "    <tr>\n",
       "      <th>1</th>\n",
       "      <td>February</td>\n",
       "      <td>69</td>\n",
       "    </tr>\n",
       "    <tr>\n",
       "      <th>2</th>\n",
       "      <td>March</td>\n",
       "      <td>64</td>\n",
       "    </tr>\n",
       "    <tr>\n",
       "      <th>3</th>\n",
       "      <td>April</td>\n",
       "      <td>62</td>\n",
       "    </tr>\n",
       "    <tr>\n",
       "      <th>4</th>\n",
       "      <td>May</td>\n",
       "      <td>4</td>\n",
       "    </tr>\n",
       "  </tbody>\n",
       "</table>\n",
       "</div>"
      ],
      "text/plain": [
       "  MonthOfYear  Company\n",
       "0     January       28\n",
       "1    February       69\n",
       "2       March       64\n",
       "3       April       62\n",
       "4         May        4"
      ]
     },
     "execution_count": 8,
     "metadata": {},
     "output_type": "execute_result"
    }
   ],
   "source": [
    "# Here we are creating a new dataframe containing the information on the distribution of months of the year to see\n",
    "# how many times I applied each month of the year.\n",
    "# I am also doing reindexing of the dataframe since it would be sorted based on alphabetical or numeric order,\n",
    "# but not the months of the year as they are meant to be.\n",
    "\n",
    "month_dist_df = df.groupby('MonthOfYear')['Company'].count().reindex(['January', 'February', \n",
    "                                                                  'March', 'April', 'May']).to_frame()\n",
    "month_dist_df.reset_index(inplace=True)\n",
    "month_dist_df"
   ]
  },
  {
   "cell_type": "code",
   "execution_count": 9,
   "metadata": {},
   "outputs": [],
   "source": [
    "# Here I am counting values for positions to see the distribution of positions I have applied so far.\n",
    "\n",
    "positions_df = df['Position'].value_counts().to_frame()\n",
    "positions_df.reset_index(inplace=True)"
   ]
  },
  {
   "cell_type": "code",
   "execution_count": 10,
   "metadata": {},
   "outputs": [
    {
     "data": {
      "text/html": [
       "<div>\n",
       "<style scoped>\n",
       "    .dataframe tbody tr th:only-of-type {\n",
       "        vertical-align: middle;\n",
       "    }\n",
       "\n",
       "    .dataframe tbody tr th {\n",
       "        vertical-align: top;\n",
       "    }\n",
       "\n",
       "    .dataframe thead th {\n",
       "        text-align: right;\n",
       "    }\n",
       "</style>\n",
       "<table border=\"1\" class=\"dataframe\">\n",
       "  <thead>\n",
       "    <tr style=\"text-align: right;\">\n",
       "      <th></th>\n",
       "      <th>Position</th>\n",
       "      <th>Count</th>\n",
       "    </tr>\n",
       "  </thead>\n",
       "  <tbody>\n",
       "    <tr>\n",
       "      <th>0</th>\n",
       "      <td>Data Scientist</td>\n",
       "      <td>66</td>\n",
       "    </tr>\n",
       "    <tr>\n",
       "      <th>1</th>\n",
       "      <td>Data Analyst</td>\n",
       "      <td>57</td>\n",
       "    </tr>\n",
       "    <tr>\n",
       "      <th>2</th>\n",
       "      <td>Senior Data Scientist</td>\n",
       "      <td>9</td>\n",
       "    </tr>\n",
       "    <tr>\n",
       "      <th>3</th>\n",
       "      <td>Senior Data Analyst</td>\n",
       "      <td>9</td>\n",
       "    </tr>\n",
       "    <tr>\n",
       "      <th>4</th>\n",
       "      <td>(Senior) Data Scientist</td>\n",
       "      <td>7</td>\n",
       "    </tr>\n",
       "  </tbody>\n",
       "</table>\n",
       "</div>"
      ],
      "text/plain": [
       "                  Position  Count\n",
       "0           Data Scientist     66\n",
       "1             Data Analyst     57\n",
       "2    Senior Data Scientist      9\n",
       "3      Senior Data Analyst      9\n",
       "4  (Senior) Data Scientist      7"
      ]
     },
     "execution_count": 10,
     "metadata": {},
     "output_type": "execute_result"
    }
   ],
   "source": [
    "positions_df.columns = ['Position', 'Count']\n",
    "positions_df.head()"
   ]
  },
  {
   "cell_type": "code",
   "execution_count": 11,
   "metadata": {},
   "outputs": [],
   "source": [
    "# Here I am counting values for industries of companies to see the distribution of industries I have applied so far.\n",
    "\n",
    "industries_df = df['Industry'].value_counts().to_frame()\n",
    "industries_df.reset_index(inplace=True)"
   ]
  },
  {
   "cell_type": "code",
   "execution_count": 12,
   "metadata": {},
   "outputs": [
    {
     "data": {
      "text/html": [
       "<div>\n",
       "<style scoped>\n",
       "    .dataframe tbody tr th:only-of-type {\n",
       "        vertical-align: middle;\n",
       "    }\n",
       "\n",
       "    .dataframe tbody tr th {\n",
       "        vertical-align: top;\n",
       "    }\n",
       "\n",
       "    .dataframe thead th {\n",
       "        text-align: right;\n",
       "    }\n",
       "</style>\n",
       "<table border=\"1\" class=\"dataframe\">\n",
       "  <thead>\n",
       "    <tr style=\"text-align: right;\">\n",
       "      <th></th>\n",
       "      <th>Industry</th>\n",
       "      <th>Count</th>\n",
       "    </tr>\n",
       "  </thead>\n",
       "  <tbody>\n",
       "    <tr>\n",
       "      <th>0</th>\n",
       "      <td>Software</td>\n",
       "      <td>62</td>\n",
       "    </tr>\n",
       "    <tr>\n",
       "      <th>1</th>\n",
       "      <td>Delivery</td>\n",
       "      <td>20</td>\n",
       "    </tr>\n",
       "    <tr>\n",
       "      <th>2</th>\n",
       "      <td>Marketplace</td>\n",
       "      <td>15</td>\n",
       "    </tr>\n",
       "    <tr>\n",
       "      <th>3</th>\n",
       "      <td>Marketing</td>\n",
       "      <td>14</td>\n",
       "    </tr>\n",
       "    <tr>\n",
       "      <th>4</th>\n",
       "      <td>Machine Learning</td>\n",
       "      <td>13</td>\n",
       "    </tr>\n",
       "  </tbody>\n",
       "</table>\n",
       "</div>"
      ],
      "text/plain": [
       "           Industry  Count\n",
       "0          Software     62\n",
       "1          Delivery     20\n",
       "2       Marketplace     15\n",
       "3         Marketing     14\n",
       "4  Machine Learning     13"
      ]
     },
     "execution_count": 12,
     "metadata": {},
     "output_type": "execute_result"
    }
   ],
   "source": [
    "industries_df.columns = ['Industry', 'Count']\n",
    "industries_df.head()"
   ]
  },
  {
   "cell_type": "code",
   "execution_count": 13,
   "metadata": {},
   "outputs": [],
   "source": [
    "# Here I am calculating the rejection rate (how many of the companies have sent a rejection mail after I applied).\n",
    "\n",
    "rejection_rate_df = df['Rejection'].value_counts().to_frame()\n",
    "rejection_rate_df.reset_index(inplace=True)"
   ]
  },
  {
   "cell_type": "code",
   "execution_count": 14,
   "metadata": {},
   "outputs": [
    {
     "data": {
      "text/html": [
       "<div>\n",
       "<style scoped>\n",
       "    .dataframe tbody tr th:only-of-type {\n",
       "        vertical-align: middle;\n",
       "    }\n",
       "\n",
       "    .dataframe tbody tr th {\n",
       "        vertical-align: top;\n",
       "    }\n",
       "\n",
       "    .dataframe thead th {\n",
       "        text-align: right;\n",
       "    }\n",
       "</style>\n",
       "<table border=\"1\" class=\"dataframe\">\n",
       "  <thead>\n",
       "    <tr style=\"text-align: right;\">\n",
       "      <th></th>\n",
       "      <th>Rejection</th>\n",
       "      <th>Count</th>\n",
       "    </tr>\n",
       "  </thead>\n",
       "  <tbody>\n",
       "    <tr>\n",
       "      <th>0</th>\n",
       "      <td>Yes</td>\n",
       "      <td>212</td>\n",
       "    </tr>\n",
       "    <tr>\n",
       "      <th>1</th>\n",
       "      <td>No</td>\n",
       "      <td>15</td>\n",
       "    </tr>\n",
       "  </tbody>\n",
       "</table>\n",
       "</div>"
      ],
      "text/plain": [
       "  Rejection  Count\n",
       "0       Yes    212\n",
       "1        No     15"
      ]
     },
     "execution_count": 14,
     "metadata": {},
     "output_type": "execute_result"
    }
   ],
   "source": [
    "# Here 'Yes' would mean that I got rejection, whereas 'No' - went for an interview.\n",
    "\n",
    "rejection_rate_df.columns = ['Rejection', 'Count']\n",
    "rejection_rate_df.head()"
   ]
  },
  {
   "cell_type": "code",
   "execution_count": 15,
   "metadata": {},
   "outputs": [
    {
     "data": {
      "text/html": [
       "<div>\n",
       "<style scoped>\n",
       "    .dataframe tbody tr th:only-of-type {\n",
       "        vertical-align: middle;\n",
       "    }\n",
       "\n",
       "    .dataframe tbody tr th {\n",
       "        vertical-align: top;\n",
       "    }\n",
       "\n",
       "    .dataframe thead th {\n",
       "        text-align: right;\n",
       "    }\n",
       "</style>\n",
       "<table border=\"1\" class=\"dataframe\">\n",
       "  <thead>\n",
       "    <tr style=\"text-align: right;\">\n",
       "      <th></th>\n",
       "      <th></th>\n",
       "      <th>Count</th>\n",
       "    </tr>\n",
       "    <tr>\n",
       "      <th>MonthOfYear</th>\n",
       "      <th>Rejection</th>\n",
       "      <th></th>\n",
       "    </tr>\n",
       "  </thead>\n",
       "  <tbody>\n",
       "    <tr>\n",
       "      <th rowspan=\"2\" valign=\"top\">April</th>\n",
       "      <th>Yes</th>\n",
       "      <td>57</td>\n",
       "    </tr>\n",
       "    <tr>\n",
       "      <th>No</th>\n",
       "      <td>5</td>\n",
       "    </tr>\n",
       "    <tr>\n",
       "      <th rowspan=\"2\" valign=\"top\">February</th>\n",
       "      <th>Yes</th>\n",
       "      <td>64</td>\n",
       "    </tr>\n",
       "    <tr>\n",
       "      <th>No</th>\n",
       "      <td>5</td>\n",
       "    </tr>\n",
       "    <tr>\n",
       "      <th rowspan=\"2\" valign=\"top\">January</th>\n",
       "      <th>Yes</th>\n",
       "      <td>27</td>\n",
       "    </tr>\n",
       "    <tr>\n",
       "      <th>No</th>\n",
       "      <td>1</td>\n",
       "    </tr>\n",
       "    <tr>\n",
       "      <th rowspan=\"2\" valign=\"top\">March</th>\n",
       "      <th>Yes</th>\n",
       "      <td>60</td>\n",
       "    </tr>\n",
       "    <tr>\n",
       "      <th>No</th>\n",
       "      <td>4</td>\n",
       "    </tr>\n",
       "    <tr>\n",
       "      <th>May</th>\n",
       "      <th>Yes</th>\n",
       "      <td>4</td>\n",
       "    </tr>\n",
       "  </tbody>\n",
       "</table>\n",
       "</div>"
      ],
      "text/plain": [
       "                       Count\n",
       "MonthOfYear Rejection       \n",
       "April       Yes           57\n",
       "            No             5\n",
       "February    Yes           64\n",
       "            No             5\n",
       "January     Yes           27\n",
       "            No             1\n",
       "March       Yes           60\n",
       "            No             4\n",
       "May         Yes            4"
      ]
     },
     "execution_count": 15,
     "metadata": {},
     "output_type": "execute_result"
    }
   ],
   "source": [
    "# Here I am calculating the rejection rate grouped on a montly basis (how many of the companies have sent a rejection mail after I applied).\n",
    "\n",
    "rejection_rate_monthly_df = df.groupby('MonthOfYear')['Rejection'].value_counts().to_frame()\n",
    "rejection_rate_monthly_df.columns = ['Count']\n",
    "rejection_rate_monthly_df"
   ]
  },
  {
   "cell_type": "code",
   "execution_count": 16,
   "metadata": {},
   "outputs": [
    {
     "data": {
      "text/html": [
       "<div>\n",
       "<style scoped>\n",
       "    .dataframe tbody tr th:only-of-type {\n",
       "        vertical-align: middle;\n",
       "    }\n",
       "\n",
       "    .dataframe tbody tr th {\n",
       "        vertical-align: top;\n",
       "    }\n",
       "\n",
       "    .dataframe thead th {\n",
       "        text-align: right;\n",
       "    }\n",
       "</style>\n",
       "<table border=\"1\" class=\"dataframe\">\n",
       "  <thead>\n",
       "    <tr style=\"text-align: right;\">\n",
       "      <th></th>\n",
       "      <th>MonthOfYear</th>\n",
       "      <th>Rejection</th>\n",
       "      <th>Count</th>\n",
       "    </tr>\n",
       "  </thead>\n",
       "  <tbody>\n",
       "    <tr>\n",
       "      <th>0</th>\n",
       "      <td>April</td>\n",
       "      <td>Yes</td>\n",
       "      <td>57</td>\n",
       "    </tr>\n",
       "    <tr>\n",
       "      <th>1</th>\n",
       "      <td>April</td>\n",
       "      <td>No</td>\n",
       "      <td>5</td>\n",
       "    </tr>\n",
       "    <tr>\n",
       "      <th>2</th>\n",
       "      <td>February</td>\n",
       "      <td>Yes</td>\n",
       "      <td>64</td>\n",
       "    </tr>\n",
       "    <tr>\n",
       "      <th>3</th>\n",
       "      <td>February</td>\n",
       "      <td>No</td>\n",
       "      <td>5</td>\n",
       "    </tr>\n",
       "    <tr>\n",
       "      <th>4</th>\n",
       "      <td>January</td>\n",
       "      <td>Yes</td>\n",
       "      <td>27</td>\n",
       "    </tr>\n",
       "    <tr>\n",
       "      <th>5</th>\n",
       "      <td>January</td>\n",
       "      <td>No</td>\n",
       "      <td>1</td>\n",
       "    </tr>\n",
       "    <tr>\n",
       "      <th>6</th>\n",
       "      <td>March</td>\n",
       "      <td>Yes</td>\n",
       "      <td>60</td>\n",
       "    </tr>\n",
       "    <tr>\n",
       "      <th>7</th>\n",
       "      <td>March</td>\n",
       "      <td>No</td>\n",
       "      <td>4</td>\n",
       "    </tr>\n",
       "    <tr>\n",
       "      <th>8</th>\n",
       "      <td>May</td>\n",
       "      <td>Yes</td>\n",
       "      <td>4</td>\n",
       "    </tr>\n",
       "  </tbody>\n",
       "</table>\n",
       "</div>"
      ],
      "text/plain": [
       "  MonthOfYear Rejection  Count\n",
       "0       April       Yes     57\n",
       "1       April        No      5\n",
       "2    February       Yes     64\n",
       "3    February        No      5\n",
       "4     January       Yes     27\n",
       "5     January        No      1\n",
       "6       March       Yes     60\n",
       "7       March        No      4\n",
       "8         May       Yes      4"
      ]
     },
     "execution_count": 16,
     "metadata": {},
     "output_type": "execute_result"
    }
   ],
   "source": [
    "rejection_rate_monthly_df.reset_index(inplace=True)\n",
    "rejection_rate_monthly_df"
   ]
  },
  {
   "cell_type": "code",
   "execution_count": 17,
   "metadata": {},
   "outputs": [
    {
     "data": {
      "text/html": [
       "<div>\n",
       "<style scoped>\n",
       "    .dataframe tbody tr th:only-of-type {\n",
       "        vertical-align: middle;\n",
       "    }\n",
       "\n",
       "    .dataframe tbody tr th {\n",
       "        vertical-align: top;\n",
       "    }\n",
       "\n",
       "    .dataframe thead th {\n",
       "        text-align: right;\n",
       "    }\n",
       "</style>\n",
       "<table border=\"1\" class=\"dataframe\">\n",
       "  <thead>\n",
       "    <tr style=\"text-align: right;\">\n",
       "      <th></th>\n",
       "      <th>MonthOfYear</th>\n",
       "      <th>Rejection</th>\n",
       "      <th>Count</th>\n",
       "    </tr>\n",
       "  </thead>\n",
       "  <tbody>\n",
       "    <tr>\n",
       "      <th>4</th>\n",
       "      <td>January</td>\n",
       "      <td>Yes</td>\n",
       "      <td>27</td>\n",
       "    </tr>\n",
       "    <tr>\n",
       "      <th>5</th>\n",
       "      <td>January</td>\n",
       "      <td>No</td>\n",
       "      <td>1</td>\n",
       "    </tr>\n",
       "    <tr>\n",
       "      <th>2</th>\n",
       "      <td>February</td>\n",
       "      <td>Yes</td>\n",
       "      <td>64</td>\n",
       "    </tr>\n",
       "    <tr>\n",
       "      <th>3</th>\n",
       "      <td>February</td>\n",
       "      <td>No</td>\n",
       "      <td>5</td>\n",
       "    </tr>\n",
       "    <tr>\n",
       "      <th>6</th>\n",
       "      <td>March</td>\n",
       "      <td>Yes</td>\n",
       "      <td>60</td>\n",
       "    </tr>\n",
       "    <tr>\n",
       "      <th>7</th>\n",
       "      <td>March</td>\n",
       "      <td>No</td>\n",
       "      <td>4</td>\n",
       "    </tr>\n",
       "    <tr>\n",
       "      <th>0</th>\n",
       "      <td>April</td>\n",
       "      <td>Yes</td>\n",
       "      <td>57</td>\n",
       "    </tr>\n",
       "    <tr>\n",
       "      <th>1</th>\n",
       "      <td>April</td>\n",
       "      <td>No</td>\n",
       "      <td>5</td>\n",
       "    </tr>\n",
       "    <tr>\n",
       "      <th>8</th>\n",
       "      <td>May</td>\n",
       "      <td>Yes</td>\n",
       "      <td>4</td>\n",
       "    </tr>\n",
       "  </tbody>\n",
       "</table>\n",
       "</div>"
      ],
      "text/plain": [
       "  MonthOfYear Rejection  Count\n",
       "4     January       Yes     27\n",
       "5     January        No      1\n",
       "2    February       Yes     64\n",
       "3    February        No      5\n",
       "6       March       Yes     60\n",
       "7       March        No      4\n",
       "0       April       Yes     57\n",
       "1       April        No      5\n",
       "8         May       Yes      4"
      ]
     },
     "execution_count": 17,
     "metadata": {},
     "output_type": "execute_result"
    }
   ],
   "source": [
    "rejection_rate_monthly_df = rejection_rate_monthly_df.reindex([4, 5, 2, 3, 6, 7, 0, 1, 8])\n",
    "rejection_rate_monthly_df"
   ]
  },
  {
   "cell_type": "code",
   "execution_count": 18,
   "metadata": {},
   "outputs": [
    {
     "data": {
      "text/html": [
       "<div>\n",
       "<style scoped>\n",
       "    .dataframe tbody tr th:only-of-type {\n",
       "        vertical-align: middle;\n",
       "    }\n",
       "\n",
       "    .dataframe tbody tr th {\n",
       "        vertical-align: top;\n",
       "    }\n",
       "\n",
       "    .dataframe thead th {\n",
       "        text-align: right;\n",
       "    }\n",
       "</style>\n",
       "<table border=\"1\" class=\"dataframe\">\n",
       "  <thead>\n",
       "    <tr style=\"text-align: right;\">\n",
       "      <th></th>\n",
       "      <th>Rejection</th>\n",
       "      <th>Count</th>\n",
       "    </tr>\n",
       "    <tr>\n",
       "      <th>MonthOfYear</th>\n",
       "      <th></th>\n",
       "      <th></th>\n",
       "    </tr>\n",
       "  </thead>\n",
       "  <tbody>\n",
       "    <tr>\n",
       "      <th>January</th>\n",
       "      <td>Yes</td>\n",
       "      <td>27</td>\n",
       "    </tr>\n",
       "    <tr>\n",
       "      <th>January</th>\n",
       "      <td>No</td>\n",
       "      <td>1</td>\n",
       "    </tr>\n",
       "    <tr>\n",
       "      <th>February</th>\n",
       "      <td>Yes</td>\n",
       "      <td>64</td>\n",
       "    </tr>\n",
       "    <tr>\n",
       "      <th>February</th>\n",
       "      <td>No</td>\n",
       "      <td>5</td>\n",
       "    </tr>\n",
       "    <tr>\n",
       "      <th>March</th>\n",
       "      <td>Yes</td>\n",
       "      <td>60</td>\n",
       "    </tr>\n",
       "    <tr>\n",
       "      <th>March</th>\n",
       "      <td>No</td>\n",
       "      <td>4</td>\n",
       "    </tr>\n",
       "    <tr>\n",
       "      <th>April</th>\n",
       "      <td>Yes</td>\n",
       "      <td>57</td>\n",
       "    </tr>\n",
       "    <tr>\n",
       "      <th>April</th>\n",
       "      <td>No</td>\n",
       "      <td>5</td>\n",
       "    </tr>\n",
       "    <tr>\n",
       "      <th>May</th>\n",
       "      <td>Yes</td>\n",
       "      <td>4</td>\n",
       "    </tr>\n",
       "  </tbody>\n",
       "</table>\n",
       "</div>"
      ],
      "text/plain": [
       "            Rejection  Count\n",
       "MonthOfYear                 \n",
       "January           Yes     27\n",
       "January            No      1\n",
       "February          Yes     64\n",
       "February           No      5\n",
       "March             Yes     60\n",
       "March              No      4\n",
       "April             Yes     57\n",
       "April              No      5\n",
       "May               Yes      4"
      ]
     },
     "execution_count": 18,
     "metadata": {},
     "output_type": "execute_result"
    }
   ],
   "source": [
    "rejection_rate_monthly_df.set_index('MonthOfYear', inplace=True)\n",
    "rejection_rate_monthly_df"
   ]
  },
  {
   "cell_type": "code",
   "execution_count": 19,
   "metadata": {},
   "outputs": [
    {
     "data": {
      "text/html": [
       "<div>\n",
       "<style scoped>\n",
       "    .dataframe tbody tr th:only-of-type {\n",
       "        vertical-align: middle;\n",
       "    }\n",
       "\n",
       "    .dataframe tbody tr th {\n",
       "        vertical-align: top;\n",
       "    }\n",
       "\n",
       "    .dataframe thead th {\n",
       "        text-align: right;\n",
       "    }\n",
       "</style>\n",
       "<table border=\"1\" class=\"dataframe\">\n",
       "  <thead>\n",
       "    <tr style=\"text-align: right;\">\n",
       "      <th></th>\n",
       "      <th>MonthOfYear</th>\n",
       "      <th>Rejection</th>\n",
       "      <th>Count</th>\n",
       "    </tr>\n",
       "  </thead>\n",
       "  <tbody>\n",
       "    <tr>\n",
       "      <th>0</th>\n",
       "      <td>January</td>\n",
       "      <td>Yes</td>\n",
       "      <td>27</td>\n",
       "    </tr>\n",
       "    <tr>\n",
       "      <th>1</th>\n",
       "      <td>January</td>\n",
       "      <td>No</td>\n",
       "      <td>1</td>\n",
       "    </tr>\n",
       "    <tr>\n",
       "      <th>2</th>\n",
       "      <td>February</td>\n",
       "      <td>Yes</td>\n",
       "      <td>64</td>\n",
       "    </tr>\n",
       "    <tr>\n",
       "      <th>3</th>\n",
       "      <td>February</td>\n",
       "      <td>No</td>\n",
       "      <td>5</td>\n",
       "    </tr>\n",
       "    <tr>\n",
       "      <th>4</th>\n",
       "      <td>March</td>\n",
       "      <td>Yes</td>\n",
       "      <td>60</td>\n",
       "    </tr>\n",
       "    <tr>\n",
       "      <th>5</th>\n",
       "      <td>March</td>\n",
       "      <td>No</td>\n",
       "      <td>4</td>\n",
       "    </tr>\n",
       "    <tr>\n",
       "      <th>6</th>\n",
       "      <td>April</td>\n",
       "      <td>Yes</td>\n",
       "      <td>57</td>\n",
       "    </tr>\n",
       "    <tr>\n",
       "      <th>7</th>\n",
       "      <td>April</td>\n",
       "      <td>No</td>\n",
       "      <td>5</td>\n",
       "    </tr>\n",
       "    <tr>\n",
       "      <th>8</th>\n",
       "      <td>May</td>\n",
       "      <td>Yes</td>\n",
       "      <td>4</td>\n",
       "    </tr>\n",
       "  </tbody>\n",
       "</table>\n",
       "</div>"
      ],
      "text/plain": [
       "  MonthOfYear Rejection  Count\n",
       "0     January       Yes     27\n",
       "1     January        No      1\n",
       "2    February       Yes     64\n",
       "3    February        No      5\n",
       "4       March       Yes     60\n",
       "5       March        No      4\n",
       "6       April       Yes     57\n",
       "7       April        No      5\n",
       "8         May       Yes      4"
      ]
     },
     "execution_count": 19,
     "metadata": {},
     "output_type": "execute_result"
    }
   ],
   "source": [
    "# A few steps of manipulations to sort the months, since the standard sort can only be alphabetical.\n",
    "\n",
    "rejection_rate_monthly_df.reset_index(inplace=True)\n",
    "rejection_rate_monthly_df"
   ]
  },
  {
   "cell_type": "code",
   "execution_count": 20,
   "metadata": {},
   "outputs": [],
   "source": [
    "#########################################################################################################################\n",
    "\n",
    "# After all of the preparation and dataframe creation steps we are finally coming the interpretation part.\n",
    "# Here we go!\n",
    "\n",
    "#########################################################################################################################"
   ]
  },
  {
   "cell_type": "code",
   "execution_count": 21,
   "metadata": {},
   "outputs": [],
   "source": [
    "# Hereby I am extracting current datetime to further include it to create appropriate filenames and etc.\n",
    "\n",
    "from datetime import datetime\n",
    "\n",
    "now = datetime.now()\n",
    "current_time = now.strftime(\"%d.%m.%Y\")"
   ]
  },
  {
   "cell_type": "code",
   "execution_count": 22,
   "metadata": {},
   "outputs": [
    {
     "data": {
      "text/plain": [
       "'Until 02.05.2021 I have applied for 227 vacant positions in 32 industries'"
      ]
     },
     "metadata": {},
     "output_type": "display_data"
    }
   ],
   "source": [
    "# The first interesting insight follows.\n",
    "\n",
    "display('Until {time} I have applied for {job} vacant positions in {industry} industries'.format(time=current_time, \n",
    "                                                                                          job=len(df.index), \n",
    "                                                                                          industry=len(df.Industry.unique())))"
   ]
  },
  {
   "cell_type": "code",
   "execution_count": 23,
   "metadata": {},
   "outputs": [
    {
     "data": {
      "text/plain": [
       "<matplotlib.axes._subplots.AxesSubplot at 0x1d0ceee4a00>"
      ]
     },
     "execution_count": 23,
     "metadata": {},
     "output_type": "execute_result"
    },
    {
     "data": {
      "image/png": "[encoded data removed]",
      "text/plain": [
       "<Figure size 720x720 with 1 Axes>"
      ]
     },
     "metadata": {
      "needs_background": "light"
     },
     "output_type": "display_data"
    }
   ],
   "source": [
    "# Here I am plotting the amount of applications for each day to see the distribution.\n",
    "\n",
    "date_dist_df.set_index('Date').plot.bar(figsize=(10,10))"
   ]
  },
  {
   "cell_type": "code",
   "execution_count": 24,
   "metadata": {},
   "outputs": [
    {
     "data": {
      "text/plain": [
       "<matplotlib.axes._subplots.AxesSubplot at 0x1d0d108ce20>"
      ]
     },
     "execution_count": 24,
     "metadata": {},
     "output_type": "execute_result"
    },
    {
     "data": {
      "image/png": "[encoded data removed]",
      "text/plain": [
       "<Figure size 720x720 with 1 Axes>"
      ]
     },
     "metadata": {
      "needs_background": "light"
     },
     "output_type": "display_data"
    }
   ],
   "source": [
    "# Here I am plotting the amount of applications for each day of the week to see the distribution.\n",
    "\n",
    "day_dist_df.set_index('DayOfWeek').plot.bar(figsize=(10,10))"
   ]
  },
  {
   "cell_type": "code",
   "execution_count": 25,
   "metadata": {},
   "outputs": [
    {
     "data": {
      "text/plain": [
       "<matplotlib.axes._subplots.AxesSubplot at 0x1d0d10c7d60>"
      ]
     },
     "execution_count": 25,
     "metadata": {},
     "output_type": "execute_result"
    },
    {
     "data": {
      "image/png": "[encoded data removed]",
      "text/plain": [
       "<Figure size 720x720 with 1 Axes>"
      ]
     },
     "metadata": {
      "needs_background": "light"
     },
     "output_type": "display_data"
    }
   ],
   "source": [
    "# Here I am plotting the amount of applications for each month of the year to see the distribution.\n",
    "\n",
    "month_dist_df.set_index('MonthOfYear').plot.bar(figsize=(10,10))"
   ]
  },
  {
   "cell_type": "code",
   "execution_count": 26,
   "metadata": {},
   "outputs": [
    {
     "data": {
      "text/plain": [
       "<matplotlib.axes._subplots.AxesSubplot at 0x1d0d10daa30>"
      ]
     },
     "execution_count": 26,
     "metadata": {},
     "output_type": "execute_result"
    },
    {
     "data": {
      "image/png": "[encoded data removed]",
      "text/plain": [
       "<Figure size 720x720 with 1 Axes>"
      ]
     },
     "metadata": {
      "needs_background": "light"
     },
     "output_type": "display_data"
    }
   ],
   "source": [
    "# Here I am plotting the amount of rejections for each month of the year to see the distribution.\n",
    "\n",
    "fig, ax = plt.subplots(figsize=(10, 10))\n",
    "sns.barplot(ax=ax, x=\"MonthOfYear\", y=\"Count\", hue=\"Rejection\", data=rejection_rate_monthly_df)"
   ]
  },
  {
   "cell_type": "code",
   "execution_count": 27,
   "metadata": {},
   "outputs": [
    {
     "data": {
      "text/plain": [
       "<matplotlib.axes._subplots.AxesSubplot at 0x1d0d1576ac0>"
      ]
     },
     "execution_count": 27,
     "metadata": {},
     "output_type": "execute_result"
    },
    {
     "data": {
      "image/png": "[encoded data removed]",
      "text/plain": [
       "<Figure size 720x720 with 1 Axes>"
      ]
     },
     "metadata": {},
     "output_type": "display_data"
    }
   ],
   "source": [
    "# Here I am plotting the pie chart to see the share of each position I applied for.\n",
    "# Further I would be plotting the same thing using Bokeh and it would be interactive, \n",
    "# containing actual values and percentages.\n",
    "\n",
    "positions_df.set_index('Position').head(15).plot.pie(y='Count', figsize=(10,10))"
   ]
  },
  {
   "cell_type": "code",
   "execution_count": 28,
   "metadata": {},
   "outputs": [
    {
     "data": {
      "text/plain": [
       "<matplotlib.axes._subplots.AxesSubplot at 0x1d0d1951a60>"
      ]
     },
     "execution_count": 28,
     "metadata": {},
     "output_type": "execute_result"
    },
    {
     "data": {
      "image/png": "[encoded data removed]",
      "text/plain": [
       "<Figure size 720x720 with 1 Axes>"
      ]
     },
     "metadata": {},
     "output_type": "display_data"
    }
   ],
   "source": [
    "# Here I am plotting the pie chart to see the share of each industry of the company I applied for.\n",
    "# Further I would be plotting the same thing using Bokeh and it would be interactive, \n",
    "# containing actual values and percentages.\n",
    "\n",
    "industries_df.set_index('Industry').plot.pie(y='Count', figsize=(10,10))"
   ]
  },
  {
   "cell_type": "code",
   "execution_count": 29,
   "metadata": {},
   "outputs": [
    {
     "data": {
      "text/plain": [
       "<matplotlib.axes._subplots.AxesSubplot at 0x1d0d1a52730>"
      ]
     },
     "execution_count": 29,
     "metadata": {},
     "output_type": "execute_result"
    },
    {
     "data": {
      "image/png": "[encoded data removed]",
      "text/plain": [
       "<Figure size 720x720 with 1 Axes>"
      ]
     },
     "metadata": {},
     "output_type": "display_data"
    }
   ],
   "source": [
    "# Here I am plotting the pie chart to see the the rejection rate for the position I applied for.\n",
    "# Further I would be plotting the same thing using Bokeh and it would be interactive, \n",
    "# containing actual values and percentages.\n",
    "\n",
    "rejection_rate_df.set_index('Rejection').plot.pie(y='Count', figsize=(10,10))"
   ]
  },
  {
   "cell_type": "code",
   "execution_count": 30,
   "metadata": {},
   "outputs": [
    {
     "data": {
      "text/html": [
       "<div>\n",
       "<style scoped>\n",
       "    .dataframe tbody tr th:only-of-type {\n",
       "        vertical-align: middle;\n",
       "    }\n",
       "\n",
       "    .dataframe tbody tr th {\n",
       "        vertical-align: top;\n",
       "    }\n",
       "\n",
       "    .dataframe thead th {\n",
       "        text-align: right;\n",
       "    }\n",
       "</style>\n",
       "<table border=\"1\" class=\"dataframe\">\n",
       "  <thead>\n",
       "    <tr style=\"text-align: right;\">\n",
       "      <th></th>\n",
       "      <th>Position</th>\n",
       "      <th>Count</th>\n",
       "      <th>Percentage</th>\n",
       "      <th>Angle</th>\n",
       "      <th>Color</th>\n",
       "    </tr>\n",
       "  </thead>\n",
       "  <tbody>\n",
       "    <tr>\n",
       "      <th>0</th>\n",
       "      <td>Data Scientist</td>\n",
       "      <td>66</td>\n",
       "      <td>0.290749</td>\n",
       "      <td>1.826829</td>\n",
       "      <td>#94118E</td>\n",
       "    </tr>\n",
       "    <tr>\n",
       "      <th>1</th>\n",
       "      <td>Data Analyst</td>\n",
       "      <td>57</td>\n",
       "      <td>0.251101</td>\n",
       "      <td>1.577716</td>\n",
       "      <td>#0F60FF</td>\n",
       "    </tr>\n",
       "    <tr>\n",
       "      <th>2</th>\n",
       "      <td>Senior Data Scientist</td>\n",
       "      <td>9</td>\n",
       "      <td>0.039648</td>\n",
       "      <td>0.249113</td>\n",
       "      <td>#6B8642</td>\n",
       "    </tr>\n",
       "    <tr>\n",
       "      <th>3</th>\n",
       "      <td>Senior Data Analyst</td>\n",
       "      <td>9</td>\n",
       "      <td>0.039648</td>\n",
       "      <td>0.249113</td>\n",
       "      <td>#83B9CE</td>\n",
       "    </tr>\n",
       "    <tr>\n",
       "      <th>4</th>\n",
       "      <td>(Senior) Data Scientist</td>\n",
       "      <td>7</td>\n",
       "      <td>0.030837</td>\n",
       "      <td>0.193755</td>\n",
       "      <td>#18D1D8</td>\n",
       "    </tr>\n",
       "  </tbody>\n",
       "</table>\n",
       "</div>"
      ],
      "text/plain": [
       "                  Position  Count  Percentage     Angle    Color\n",
       "0           Data Scientist     66    0.290749  1.826829  #94118E\n",
       "1             Data Analyst     57    0.251101  1.577716  #0F60FF\n",
       "2    Senior Data Scientist      9    0.039648  0.249113  #6B8642\n",
       "3      Senior Data Analyst      9    0.039648  0.249113  #83B9CE\n",
       "4  (Senior) Data Scientist      7    0.030837  0.193755  #18D1D8"
      ]
     },
     "execution_count": 30,
     "metadata": {},
     "output_type": "execute_result"
    }
   ],
   "source": [
    "# Here I am calculating the respective percentages, angles and also putting colors to pass everything to Bokeh.\n",
    "\n",
    "from math import pi\n",
    "\n",
    "from random import randint\n",
    "import random\n",
    "\n",
    "random.seed(30)\n",
    "\n",
    "color = []\n",
    "n = 100\n",
    "for i in range(n):\n",
    "    color.append('#%06X' % randint(0, 0xFFFFFF))\n",
    "\n",
    "positions_b = positions_df.copy()\n",
    "positions_b['Percentage'] = positions_b['Count'] / positions_b['Count'].sum()\n",
    "positions_b['Angle'] = positions_b['Count'] / positions_b['Count'].sum() * 2*pi\n",
    "positions_b['Color'] = color[:len(positions_b)]\n",
    "positions_b.head()"
   ]
  },
  {
   "cell_type": "code",
   "execution_count": 31,
   "metadata": {},
   "outputs": [
    {
     "data": {
      "text/html": [
       "<div>\n",
       "<style scoped>\n",
       "    .dataframe tbody tr th:only-of-type {\n",
       "        vertical-align: middle;\n",
       "    }\n",
       "\n",
       "    .dataframe tbody tr th {\n",
       "        vertical-align: top;\n",
       "    }\n",
       "\n",
       "    .dataframe thead th {\n",
       "        text-align: right;\n",
       "    }\n",
       "</style>\n",
       "<table border=\"1\" class=\"dataframe\">\n",
       "  <thead>\n",
       "    <tr style=\"text-align: right;\">\n",
       "      <th></th>\n",
       "      <th>Industry</th>\n",
       "      <th>Count</th>\n",
       "      <th>Percentage</th>\n",
       "      <th>Angle</th>\n",
       "      <th>Color</th>\n",
       "    </tr>\n",
       "  </thead>\n",
       "  <tbody>\n",
       "    <tr>\n",
       "      <th>0</th>\n",
       "      <td>Software</td>\n",
       "      <td>62</td>\n",
       "      <td>0.273128</td>\n",
       "      <td>1.716112</td>\n",
       "      <td>#94118E</td>\n",
       "    </tr>\n",
       "    <tr>\n",
       "      <th>1</th>\n",
       "      <td>Delivery</td>\n",
       "      <td>20</td>\n",
       "      <td>0.088106</td>\n",
       "      <td>0.553585</td>\n",
       "      <td>#0F60FF</td>\n",
       "    </tr>\n",
       "    <tr>\n",
       "      <th>2</th>\n",
       "      <td>Marketplace</td>\n",
       "      <td>15</td>\n",
       "      <td>0.066079</td>\n",
       "      <td>0.415188</td>\n",
       "      <td>#6B8642</td>\n",
       "    </tr>\n",
       "    <tr>\n",
       "      <th>3</th>\n",
       "      <td>Marketing</td>\n",
       "      <td>14</td>\n",
       "      <td>0.061674</td>\n",
       "      <td>0.387509</td>\n",
       "      <td>#83B9CE</td>\n",
       "    </tr>\n",
       "    <tr>\n",
       "      <th>4</th>\n",
       "      <td>Machine Learning</td>\n",
       "      <td>13</td>\n",
       "      <td>0.057269</td>\n",
       "      <td>0.359830</td>\n",
       "      <td>#18D1D8</td>\n",
       "    </tr>\n",
       "  </tbody>\n",
       "</table>\n",
       "</div>"
      ],
      "text/plain": [
       "           Industry  Count  Percentage     Angle    Color\n",
       "0          Software     62    0.273128  1.716112  #94118E\n",
       "1          Delivery     20    0.088106  0.553585  #0F60FF\n",
       "2       Marketplace     15    0.066079  0.415188  #6B8642\n",
       "3         Marketing     14    0.061674  0.387509  #83B9CE\n",
       "4  Machine Learning     13    0.057269  0.359830  #18D1D8"
      ]
     },
     "execution_count": 31,
     "metadata": {},
     "output_type": "execute_result"
    }
   ],
   "source": [
    "# Here I am calculating the respective percentages, angles and also putting colors to pass everything to Bokeh.\n",
    "\n",
    "industries_b = industries_df.copy()\n",
    "industries_b['Percentage'] = industries_b['Count'] / industries_b['Count'].sum()\n",
    "industries_b['Angle'] = industries_b['Count'] / industries_b['Count'].sum() * 2*pi\n",
    "industries_b['Color'] = color[:len(industries_b)]\n",
    "industries_b.head()"
   ]
  },
  {
   "cell_type": "code",
   "execution_count": 32,
   "metadata": {},
   "outputs": [
    {
     "data": {
      "text/html": [
       "<div>\n",
       "<style scoped>\n",
       "    .dataframe tbody tr th:only-of-type {\n",
       "        vertical-align: middle;\n",
       "    }\n",
       "\n",
       "    .dataframe tbody tr th {\n",
       "        vertical-align: top;\n",
       "    }\n",
       "\n",
       "    .dataframe thead th {\n",
       "        text-align: right;\n",
       "    }\n",
       "</style>\n",
       "<table border=\"1\" class=\"dataframe\">\n",
       "  <thead>\n",
       "    <tr style=\"text-align: right;\">\n",
       "      <th></th>\n",
       "      <th>Rejection</th>\n",
       "      <th>Count</th>\n",
       "      <th>Percentage</th>\n",
       "      <th>Angle</th>\n",
       "      <th>Color</th>\n",
       "    </tr>\n",
       "  </thead>\n",
       "  <tbody>\n",
       "    <tr>\n",
       "      <th>0</th>\n",
       "      <td>Yes</td>\n",
       "      <td>212</td>\n",
       "      <td>0.933921</td>\n",
       "      <td>5.867997</td>\n",
       "      <td>#94118E</td>\n",
       "    </tr>\n",
       "    <tr>\n",
       "      <th>1</th>\n",
       "      <td>No</td>\n",
       "      <td>15</td>\n",
       "      <td>0.066079</td>\n",
       "      <td>0.415188</td>\n",
       "      <td>#0F60FF</td>\n",
       "    </tr>\n",
       "  </tbody>\n",
       "</table>\n",
       "</div>"
      ],
      "text/plain": [
       "  Rejection  Count  Percentage     Angle    Color\n",
       "0       Yes    212    0.933921  5.867997  #94118E\n",
       "1        No     15    0.066079  0.415188  #0F60FF"
      ]
     },
     "execution_count": 32,
     "metadata": {},
     "output_type": "execute_result"
    }
   ],
   "source": [
    "# Here I am calculating the respective percentages, angles and also putting colors to pass everything to Bokeh.\n",
    "\n",
    "rejection_rate_b = rejection_rate_df.copy()\n",
    "rejection_rate_b['Percentage'] = rejection_rate_b['Count'] / rejection_rate_b['Count'].sum()\n",
    "rejection_rate_b['Angle'] = rejection_rate_b['Count'] / rejection_rate_b['Count'].sum() * 2*pi\n",
    "rejection_rate_b['Color'] = color[:len(rejection_rate_b)]\n",
    "rejection_rate_b.head()"
   ]
  },
  {
   "cell_type": "code",
   "execution_count": 33,
   "metadata": {},
   "outputs": [],
   "source": [
    "# Here I am plotting the Bokeh charts using the previously calculated dataframes containing values, percentages and angles.\n",
    "# The respective HTML file containing the plot has to open and added to current repository.\n",
    "\n",
    "from bokeh.io import output_file, show\n",
    "from bokeh.plotting import figure\n",
    "from bokeh.transform import cumsum\n",
    "from bokeh.models import ColumnDataSource, FactorRange, HoverTool\n",
    "\n",
    "output_file(\"positions_proportion.html\")\n",
    "\n",
    "b_positions = figure(plot_height=350, title=\"Proportion of positions I have applied until {}\".format(current_time),\n",
    "           tools=['hover', 'pan', 'wheel_zoom'], tooltips=\"@Percentage{%0.2f}: @Count - @Position\", x_range=(-0.5, 1.0))\n",
    "\n",
    "b_positions.wedge(x=0, y=1, radius=0.4,\n",
    "        start_angle=cumsum('Angle', include_zero=True), end_angle=cumsum('Angle'),\n",
    "        line_color=\"white\", fill_color='Color', legend_field='Position', source=positions_b)\n",
    "\n",
    "b_positions.axis.axis_label=None\n",
    "b_positions.axis.visible=False\n",
    "b_positions.grid.grid_line_color = None\n",
    "#b_positions.add_layout(b_positions.legend, 'right')\n",
    "b_positions.legend.label_text_font_size = \"8px\"\n",
    "\n",
    "show(b_positions)"
   ]
  },
  {
   "cell_type": "code",
   "execution_count": 34,
   "metadata": {},
   "outputs": [],
   "source": [
    "# Here I am plotting the Bokeh charts using the previously calculated dataframes containing values, percentages and angles.\n",
    "# The respective HTML file containing the plot has to open and added to current repository.\n",
    "\n",
    "now = datetime.now()\n",
    "current_time = now.strftime(\"%d.%m.%Y\")\n",
    "\n",
    "output_file(\"industries_proportion.html\")\n",
    "\n",
    "b_industries = figure(plot_height=350, title=\"Proportion of industries of companies I have applied until {}\".format(current_time),\n",
    "           tools=['hover', 'pan', 'wheel_zoom'], tooltips=\"@Percentage{%0.2f}: @Count - @Industry\", x_range=(-0.5, 1.0))\n",
    "\n",
    "b_industries.wedge(x=0, y=1, radius=0.4,\n",
    "        start_angle=cumsum('Angle', include_zero=True), end_angle=cumsum('Angle'),\n",
    "        line_color=\"white\", fill_color='Color', legend_field='Industry', source=industries_b)\n",
    "\n",
    "b_industries.axis.axis_label=None\n",
    "b_industries.axis.visible=False\n",
    "b_industries.grid.grid_line_color = None\n",
    "#b_positions.add_layout(b_positions.legend, 'right')\n",
    "#b_positions.legend.label_text_font_size = \"8px\"\n",
    "\n",
    "show(b_industries)"
   ]
  },
  {
   "cell_type": "code",
   "execution_count": 35,
   "metadata": {},
   "outputs": [],
   "source": [
    "# Here I am plotting the Bokeh charts using the previously calculated dataframes containing values, percentages and angles.\n",
    "# The respective HTML file containing the plot has to open and added to current repository.\n",
    "\n",
    "now = datetime.now()\n",
    "current_time = now.strftime(\"%d.%m.%Y\")\n",
    "\n",
    "output_file(\"rejection_rate_proportion.html\")\n",
    "\n",
    "b_rejection_rate = figure(plot_height=350, title=\"Rejection rate ('Yes' for rejection) for the positions I have applied until {}\".format(current_time),\n",
    "           tools=['hover', 'pan', 'wheel_zoom'], tooltips=\"@Percentage{%0.2f}: @Count - @Rejection\", x_range=(-0.5, 1.0))\n",
    "\n",
    "b_rejection_rate.wedge(x=0, y=1, radius=0.4,\n",
    "        start_angle=cumsum('Angle', include_zero=True), end_angle=cumsum('Angle'),\n",
    "        line_color=\"white\", fill_color='Color', legend_field='Rejection', source=rejection_rate_b)\n",
    "\n",
    "b_rejection_rate.axis.axis_label=None\n",
    "b_rejection_rate.axis.visible=False\n",
    "b_rejection_rate.grid.grid_line_color = None\n",
    "#b_positions.add_layout(b_positions.legend, 'right')\n",
    "#b_positions.legend.label_text_font_size = \"8px\"\n",
    "\n",
    "show(b_rejection_rate)"
   ]
  },
  {
   "cell_type": "code",
   "execution_count": 36,
   "metadata": {},
   "outputs": [],
   "source": [
    "#########################################################################################################################\n",
    "\n",
    "# After all of the data exploration and interpretation step we can start building our machine learning model.\n",
    "# Here we go!\n",
    "\n",
    "#########################################################################################################################"
   ]
  },
  {
   "cell_type": "code",
   "execution_count": 37,
   "metadata": {},
   "outputs": [],
   "source": [
    "# Before actually building any machine learning model we need to prepare any kind of dataset.\n",
    "# Some of the parts of data preparation is done already (like getting rid of null values and etc.),\n",
    "# but we also need to remember that a machine learning model can learn from numbers only, and,\n",
    "# as you might recall, in our case a lot of columns had string values.\n",
    "# What can we do at this step? There are different techniques:\n",
    "# 1.1. We can manually assign to each string a specific number, i.e. data scientist - 1, data analyst - 2 and etc.\n",
    "# 1.2. If we have very little amount of unique string values, the first option might work nice, \n",
    "# but mostly it is too time-consuming and we can use label encoding here. The idea is identical to option 1.\n",
    "# 2. A different approach would be one-hot encoding, where we create n number of additional columns (n equals to \n",
    "# the number of unique categories) and put ones where they are true and zero otherwise. \n",
    "# Columns with data scientist would then contain ones and zero for all other types of positions.\n",
    "\n",
    "# Choosing between these two methods depend solely on the data. Mostly one-hot encoding is used for not ordinal categories,\n",
    "# whereas label encoding can be used for ordinal ones. Also, one-hot encoding would be too ineffective if there are\n",
    "# too many distinct categories."
   ]
  },
  {
   "cell_type": "code",
   "execution_count": null,
   "metadata": {},
   "outputs": [],
   "source": []
  }
 ],
 "metadata": {
  "kernelspec": {
   "display_name": "Python 3",
   "language": "python",
   "name": "python3"
  },
  "language_info": {
   "codemirror_mode": {
    "name": "ipython",
    "version": 3
   },
   "file_extension": ".py",
   "mimetype": "text/x-python",
   "name": "python",
   "nbconvert_exporter": "python",
   "pygments_lexer": "ipython3",
   "version": "3.8.0"
  }
 },
 "nbformat": 4,
 "nbformat_minor": 4
}
